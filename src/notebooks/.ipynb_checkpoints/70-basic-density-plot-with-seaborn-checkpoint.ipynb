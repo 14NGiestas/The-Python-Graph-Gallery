{
 "cells": [
  {
   "cell_type": "raw",
   "metadata": {
    "tags": [
     "hide"
    ]
   },
   "source": [
    "A density chart shows the distribution of a numeric variable. It takes as input a set of numbers."
   ]
  },
  {
   "cell_type": "markdown",
   "metadata": {},
   "source": [
    "`Seaborn` allows to build a density chart pretty easily thanks to its `kdeplot()` function. Once you have your data loaded and stored in an object, just provide one of the numeric column as input to the function."
   ]
  },
  {
   "cell_type": "markdown",
   "metadata": {},
   "source": [
    "*Note*: make sure to provide a *numeric* column, otherwise the plot won't work."
   ]
  },
  {
   "cell_type": "code",
   "execution_count": 1,
   "metadata": {},
   "outputs": [
    {
     "data": {
      "text/plain": [
       "<matplotlib.axes._subplots.AxesSubplot at 0x115c05070>"
      ]
     },
     "execution_count": 1,
     "metadata": {},
     "output_type": "execute_result"
    },
    {
     "data": {
      "image/png": "[encoded data removed]",
      "text/plain": [
       "<Figure size 288x288 with 1 Axes>"
      ]
     },
     "metadata": {
      "needs_background": "light"
     },
     "output_type": "display_data"
    }
   ],
   "source": [
    "# Load the seaborn library\n",
    "%matplotlib inline\n",
    "import matplotlib.pyplot as plt\n",
    "import seaborn as sns\n",
    "\n",
    "# Seaborn provides a dataset called iris. Load it\n",
    "df = sns.load_dataset('iris')\n",
    " \n",
    "# Make default density plot\n",
    "plt.figure(figsize=(4, 4))\n",
    "sns.kdeplot(df['sepal_width'])\n"
   ]
  },
  {
   "cell_type": "code",
   "execution_count": 2,
   "metadata": {},
   "outputs": [
    {
     "name": "stdout",
     "output_type": "stream",
     "text": [
      "28.5 ns ± 0.621 ns per loop (mean ± std. dev. of 7 runs, 10000000 loops each)\n"
     ]
    }
   ],
   "source": [
    "%%timeit\n",
    "toto = 1 + 1\n",
    "titi = toto + 2"
   ]
  },
  {
   "cell_type": "code",
   "execution_count": 3,
   "metadata": {},
   "outputs": [
    {
     "data": {
      "text/html": [
       "<div id=\"toto\">Hello</div>\n"
      ],
      "text/plain": [
       "<IPython.core.display.HTML object>"
      ]
     },
     "metadata": {},
     "output_type": "display_data"
    }
   ],
   "source": [
    "%%html\n",
    "<div id=\"toto\">Hello</div>"
   ]
  },
  {
   "cell_type": "code",
   "execution_count": 4,
   "metadata": {},
   "outputs": [
    {
     "data": {
      "application/javascript": [
       "document.getElementById(\"toto\").style.color = \"blue\";\n"
      ],
      "text/plain": [
       "<IPython.core.display.Javascript object>"
      ]
     },
     "metadata": {},
     "output_type": "display_data"
    }
   ],
   "source": [
    "%%javascript\n",
    "document.getElementById(\"toto\").style.color = \"blue\";"
   ]
  }
 ],
 "metadata": {
  "celltoolbar": "Tags",
  "chartType": "density",
  "description": "This page describes how to build a very basic density chart with <code>Python</code> and <code>Seaborn</code>. It shows the most simple usage of the <code>kdeplot</code> function and how to make it run on your dataset",
  "family": "distribution",
  "kernelspec": {
   "display_name": "Python 3",
   "language": "python",
   "name": "python3"
  },
  "language_info": {
   "codemirror_mode": {
    "name": "ipython",
    "version": 3
   },
   "file_extension": ".py",
   "mimetype": "text/x-python",
   "name": "python",
   "nbconvert_exporter": "python",
   "pygments_lexer": "ipython3",
   "version": "3.8.3"
  },
  "slug": "70-basic-density-plot-with-seaborn",
  "title": "Most basic density chart (Seaborn)"
 },
 "nbformat": 4,
 "nbformat_minor": 4
}
