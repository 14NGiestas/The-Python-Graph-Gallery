{
 "cells": [
  {
   "source": [
    "As with Plotly, no Seaborn function enables us to directly plot a ridgeline. In order to do so, we inspired from [this example](https://seaborn.pydata.org/examples/kde_ridgeplot.html) displayed in Seaborn documentation, that makes use of a Seaborn FacetGrid object with kdeplots to generate a ridgeline graph.\n",
    "We adapted the data as well as some lines of code. Feel free to investigate by yourself how to customize this graph further!"
   ],
   "cell_type": "markdown",
   "metadata": {}
  },
  {
   "source": [
    "# getting necessary libraries\n",
    "import numpy as np\n",
    "import pandas as pd\n",
    "import seaborn as sns\n",
    "import matplotlib.pyplot as plt\n",
    "sns.set_theme(style=\"white\", rc={\"axes.facecolor\": (0, 0, 0, 0)})\n",
    "\n",
    "# getting the data\n",
    "temp = pd.read_csv('https://raw.githubusercontent.com/plotly/datasets/master/2016-weather-data-seattle.csv') # we retrieve the data from plotly's GitHub repository\n",
    "temp['month'] = pd.to_datetime(temp['Date']).dt.month # we store the month in a separate column\n",
    "\n",
    "# we define a dictionnary with months that we'll use later\n",
    "month_dict = {1: 'january',\n",
    "              2: 'february',\n",
    "              3: 'march',\n",
    "              4: 'april',\n",
    "              5: 'may',\n",
    "              6: 'june',\n",
    "              7: 'july',\n",
    "              8: 'august',\n",
    "              9: 'september',\n",
    "              10: 'october',\n",
    "              11: 'november',\n",
    "              12: 'december'}\n",
    "\n",
    "# we create a 'month' column\n",
    "temp['month'] = temp['month'].map(month_dict)\n",
    "\n",
    "# we generate a pd.Serie with the mean temperature for each month (used later for colors in the FacetGrid plot), and we create a new column in temp dataframe\n",
    "month_mean_serie = temp.groupby('month')['Mean_TemperatureC'].mean()\n",
    "temp['mean_month'] = temp['month'].map(month_mean_serie)"
   ],
   "cell_type": "code",
   "metadata": {},
   "execution_count": 2,
   "outputs": [
    {
     "output_type": "error",
     "ename": "ModuleNotFoundError",
     "evalue": "No module named 'plotly'",
     "traceback": [
      "\u001b[0;31m---------------------------------------------------------------------------\u001b[0m",
      "\u001b[0;31mModuleNotFoundError\u001b[0m                       Traceback (most recent call last)",
      "\u001b[0;32m<ipython-input-2-3edc22f6bfeb>\u001b[0m in \u001b[0;36m<module>\u001b[0;34m\u001b[0m\n\u001b[1;32m      1\u001b[0m \u001b[0;31m# getting neccessary libraries\u001b[0m\u001b[0;34m\u001b[0m\u001b[0;34m\u001b[0m\u001b[0;34m\u001b[0m\u001b[0m\n\u001b[0;32m----> 2\u001b[0;31m \u001b[0;32mimport\u001b[0m \u001b[0mplotly\u001b[0m\u001b[0;34m.\u001b[0m\u001b[0mgraph_objects\u001b[0m \u001b[0;32mas\u001b[0m \u001b[0mgo\u001b[0m\u001b[0;34m\u001b[0m\u001b[0;34m\u001b[0m\u001b[0m\n\u001b[0m\u001b[1;32m      3\u001b[0m \u001b[0;32mimport\u001b[0m \u001b[0mnumpy\u001b[0m \u001b[0;32mas\u001b[0m \u001b[0mnp\u001b[0m\u001b[0;34m\u001b[0m\u001b[0;34m\u001b[0m\u001b[0m\n\u001b[1;32m      4\u001b[0m \u001b[0;32mimport\u001b[0m \u001b[0mpandas\u001b[0m \u001b[0;32mas\u001b[0m \u001b[0mpd\u001b[0m\u001b[0;34m\u001b[0m\u001b[0;34m\u001b[0m\u001b[0m\n\u001b[1;32m      5\u001b[0m \u001b[0;34m\u001b[0m\u001b[0m\n",
      "\u001b[0;31mModuleNotFoundError\u001b[0m: No module named 'plotly'"
     ]
    }
   ]
  },
  {
   "source": [
    "At this point, you can have a look at what the dataframe looks like"
   ],
   "cell_type": "markdown",
   "metadata": {}
  },
  {
   "cell_type": "code",
   "execution_count": 4,
   "metadata": {},
   "outputs": [
    {
     "output_type": "error",
     "ename": "NameError",
     "evalue": "name 'temp' is not defined",
     "traceback": [
      "\u001b[0;31m---------------------------------------------------------------------------\u001b[0m",
      "\u001b[0;31mNameError\u001b[0m                                 Traceback (most recent call last)",
      "\u001b[0;32m<ipython-input-4-b54b0036d3c9>\u001b[0m in \u001b[0;36m<module>\u001b[0;34m\u001b[0m\n\u001b[0;32m----> 1\u001b[0;31m \u001b[0mtemp\u001b[0m\u001b[0;34m.\u001b[0m\u001b[0mhead\u001b[0m\u001b[0;34m(\u001b[0m\u001b[0;34m)\u001b[0m\u001b[0;34m\u001b[0m\u001b[0;34m\u001b[0m\u001b[0m\n\u001b[0m",
      "\u001b[0;31mNameError\u001b[0m: name 'temp' is not defined"
     ]
    }
   ],
   "source": [
    "temp.head()"
   ]
  },
  {
   "source": [
    "Eventually, we generate the ridgeline plot by first instantiating a Seaborn FacetGrid object."
   ],
   "cell_type": "markdown",
   "metadata": {}
  },
  {
   "cell_type": "code",
   "execution_count": null,
   "metadata": {},
   "outputs": [],
   "source": [
    "# we generate a color palette with Seaborn.color_palette()\n",
    "pal = sns.color_palette(palette='coolwarm', n_colors=12)\n",
    "\n",
    "# in the sns.FacetGrid class, the 'hue' argument is the one that is the one that will be represented by colors with 'palette'\n",
    "g = sns.FacetGrid(temp, row='month', hue='mean_month', aspect=15, height=0.75, palette=pal)\n",
    "\n",
    "# then we add the densities kdeplots for each month\n",
    "g.map(sns.kdeplot, 'Mean_TemperatureC',\n",
    "      bw_adjust=1, clip_on=False,\n",
    "      fill=True, alpha=1, linewidth=1.5)\n",
    "\n",
    "# here we add a white line that represents the contour of each kdeplot\n",
    "g.map(sns.kdeplot, 'Mean_TemperatureC', \n",
    "      bw_adjust=1, clip_on=False, \n",
    "      color=\"w\", lw=2)\n",
    "\n",
    "# here we add a horizontal line for each plot\n",
    "g.map(plt.axhline, y=0,\n",
    "      lw=2, clip_on=False)\n",
    "\n",
    "# we loop over the FacetGrid figure axes (g.axes.flat) and add the month as text with the right color\n",
    "# notice how ax.lines[-1].get_color() enables you to access the last line's color in each matplotlib.Axes\n",
    "for i, ax in enumerate(g.axes.flat):\n",
    "    ax.text(-15, 0.02, month_dict[i+1],\n",
    "            fontweight='bold', fontsize=15,\n",
    "            color=ax.lines[-1].get_color())\n",
    "    \n",
    "# we use matplotlib.Figure.subplots_adjust() function to get the subplots to overlap\n",
    "g.fig.subplots_adjust(hspace=-0.3)\n",
    "\n",
    "# eventually we remove axes titles, yticks and spines\n",
    "g.set_titles(\"\")\n",
    "g.set(yticks=[])\n",
    "g.despine(bottom=True, left=True)\n",
    "\n",
    "plt.setp(ax.get_xticklabels(), fontsize=15, fontweight='bold')\n",
    "plt.xlabel('Temperature in degree Celsius', fontweight='bold', fontsize=15)\n",
    "g.fig.suptitle('Daily average temperature in Seattle per month',\n",
    "               ha='right',\n",
    "               fontsize=20,\n",
    "               fontweight=20)\n",
    "\n",
    "plt.show()"
   ]
  }
 ],
 "metadata": {
  "title": "Drawing a ridgeline graph with Plotly",
  "description": "A Ridgelineplot (formerly called a Joyplot) allows to study the distribution of a numeric variable for several groups. Throughout the following example, we will consider average temperatures in Seattle between 1950 and 2010 and we will show how to visualize their distribution.",
  "family": "distribution",
  "chartType": "ridgeline",
  "slug": "ridgeline-graph-seaborn",
  "keywords": "python, chart, plot, seaborn, ridgeline",
  "seoDescription": "How to draw a ridgeline graph with Plotly",
  "kernelspec": {
   "display_name": "Python 3",
   "language": "python",
   "name": "python3"
  },
  "language_info": {
   "codemirror_mode": {
    "name": "ipython",
    "version": 3
   },
   "file_extension": ".py",
   "mimetype": "text/x-python",
   "name": "python",
   "nbconvert_exporter": "python",
   "pygments_lexer": "ipython3",
   "version": "3.8.5-final"
  }
 },
 "nbformat": 4,
 "nbformat_minor": 4
}