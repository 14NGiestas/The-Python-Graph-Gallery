{
 "metadata": {
  "language_info": {
   "codemirror_mode": {
    "name": "ipython",
    "version": 3
   },
   "file_extension": ".py",
   "mimetype": "text/x-python",
   "name": "python",
   "nbconvert_exporter": "python",
   "pygments_lexer": "ipython3",
   "version": "3.7.7-final"
  },
  "orig_nbformat": 2,
  "kernelspec": {
   "name": "mapenvironment",
   "display_name": "mapenvironment"
  }
 },
 "nbformat": 4,
 "nbformat_minor": 2,
 "cells": [
  {
   "source": [
    "A Ridgelineplot (formerly called a Joyplot) allows to study the distribution of a numeric variable for several groups. Throughout the following example, we will consider average temperatures in Seattle between 1950 and 2010 and we will show how to visualize their distribution.\n",
    "\n",
    "To do so, we will use [Plotly](https://plotly.com/python/)'s amazing Python graphing library."
   ],
   "cell_type": "markdown",
   "metadata": {}
  },
  {
   "cell_type": "code",
   "execution_count": 75,
   "metadata": {},
   "outputs": [],
   "source": [
    "# getting neccessary libraries\n",
    "import plotly.graph_objects as go\n",
    "import numpy as np\n",
    "import pandas as pd\n",
    "\n",
    "# getting the data\n",
    "temp = pd.read_csv('https://raw.githubusercontent.com/plotly/datasets/master/2016-weather-data-seattle.csv') # we retrieve the data from plotly's GitHub repository\n",
    "temp['year'] = pd.to_datetime(temp['Date']).dt.year # we store the year in a separate column\n",
    "\n",
    "# Since we do not want to plot 50+ lines, we only select some years to plot\n",
    "year_list = [1950, 1960, 1970, 1980, 1990, 2000, 2010]\n",
    "temp = temp[temp['year'].isin(year_list)]\n",
    "\n",
    "# as we expect to plot histograms-like plots for each year, we group by year and mean temperature and aggregate with 'count' function\n",
    "temp = temp.groupby(['year', 'Mean_TemperatureC']).agg({'Mean_TemperatureC': 'count'}).rename(columns={'Mean_TemperatureC': 'count'}).reset_index()"
   ]
  },
  {
   "cell_type": "code",
   "execution_count": 76,
   "metadata": {},
   "outputs": [
    {
     "output_type": "execute_result",
     "data": {
      "text/plain": [
       "     year  Mean_TemperatureC  count\n",
       "0    1950              -12.0      1\n",
       "1    1950              -11.0      1\n",
       "2    1950              -10.0      2\n",
       "3    1950               -9.0      6\n",
       "4    1950               -8.0      4\n",
       "..    ...                ...    ...\n",
       "199  2010               22.0      4\n",
       "200  2010               23.0      3\n",
       "201  2010               24.0      2\n",
       "202  2010               26.0      2\n",
       "203  2010               27.0      2\n",
       "\n",
       "[204 rows x 3 columns]"
      ],
      "text/html": "<div>\n<style scoped>\n    .dataframe tbody tr th:only-of-type {\n        vertical-align: middle;\n    }\n\n    .dataframe tbody tr th {\n        vertical-align: top;\n    }\n\n    .dataframe thead th {\n        text-align: right;\n    }\n</style>\n<table border=\"1\" class=\"dataframe\">\n  <thead>\n    <tr style=\"text-align: right;\">\n      <th></th>\n      <th>year</th>\n      <th>Mean_TemperatureC</th>\n      <th>count</th>\n    </tr>\n  </thead>\n  <tbody>\n    <tr>\n      <th>0</th>\n      <td>1950</td>\n      <td>-12.0</td>\n      <td>1</td>\n    </tr>\n    <tr>\n      <th>1</th>\n      <td>1950</td>\n      <td>-11.0</td>\n      <td>1</td>\n    </tr>\n    <tr>\n      <th>2</th>\n      <td>1950</td>\n      <td>-10.0</td>\n      <td>2</td>\n    </tr>\n    <tr>\n      <th>3</th>\n      <td>1950</td>\n      <td>-9.0</td>\n      <td>6</td>\n    </tr>\n    <tr>\n      <th>4</th>\n      <td>1950</td>\n      <td>-8.0</td>\n      <td>4</td>\n    </tr>\n    <tr>\n      <th>...</th>\n      <td>...</td>\n      <td>...</td>\n      <td>...</td>\n    </tr>\n    <tr>\n      <th>199</th>\n      <td>2010</td>\n      <td>22.0</td>\n      <td>4</td>\n    </tr>\n    <tr>\n      <th>200</th>\n      <td>2010</td>\n      <td>23.0</td>\n      <td>3</td>\n    </tr>\n    <tr>\n      <th>201</th>\n      <td>2010</td>\n      <td>24.0</td>\n      <td>2</td>\n    </tr>\n    <tr>\n      <th>202</th>\n      <td>2010</td>\n      <td>26.0</td>\n      <td>2</td>\n    </tr>\n    <tr>\n      <th>203</th>\n      <td>2010</td>\n      <td>27.0</td>\n      <td>2</td>\n    </tr>\n  </tbody>\n</table>\n<p>204 rows × 3 columns</p>\n</div>"
     },
     "metadata": {},
     "execution_count": 76
    }
   ],
   "source": [
    "# you can have a look at what the data looks like at this point\n",
    "temp"
   ]
  },
  {
   "cell_type": "code",
   "execution_count": 84,
   "metadata": {},
   "outputs": [
    {
     "output_type": "display_data",
     "data": {
      "application/vnd.plotly.v1+json": {
       "config": {
        "plotlyServerURL": "https://plotly.com"
       },
       "data": [
        {
         "line": {
          "color": "white"
         },
         "mode": "lines",
         "showlegend": false,
         "type": "scatter",
         "x": [
          -20,
          40
         ],
         "y": [
          0,
          0
         ]
        },
        {
         "fill": "tonexty",
         "name": "1950",
         "type": "scatter",
         "x": [
          -12,
          -11,
          -10,
          -9,
          -8,
          -7,
          -6,
          -4,
          -3,
          -2,
          -1,
          0,
          1,
          2,
          3,
          4,
          5,
          6,
          7,
          8,
          9,
          10,
          11,
          12,
          13,
          14,
          15,
          16,
          17,
          18,
          19,
          20,
          21
         ],
         "y": [
          0,
          0,
          0.024390243902439025,
          0.12195121951219512,
          0.07317073170731707,
          0.024390243902439025,
          0,
          0.024390243902439025,
          0,
          0.04878048780487805,
          0,
          0.07317073170731707,
          0.12195121951219512,
          0.12195121951219512,
          0.1951219512195122,
          0.43902439024390244,
          0.2682926829268293,
          0.4634146341463415,
          0.7073170731707317,
          1,
          0.5609756097560976,
          0.4146341463414634,
          0.24390243902439024,
          0.36585365853658536,
          0.3170731707317073,
          0.4146341463414634,
          0.14634146341463414,
          0.43902439024390244,
          0.43902439024390244,
          0.4634146341463415,
          0.2682926829268293,
          0.1951219512195122,
          0.12195121951219512
         ]
        },
        {
         "line": {
          "color": "white"
         },
         "mode": "lines",
         "showlegend": false,
         "type": "scatter",
         "x": [
          -20,
          40
         ],
         "y": [
          1,
          1
         ]
        },
        {
         "fill": "tonexty",
         "name": "1960",
         "type": "scatter",
         "x": [
          -2,
          -1,
          0,
          1,
          2,
          3,
          4,
          5,
          6,
          7,
          8,
          9,
          10,
          11,
          12,
          13,
          14,
          15,
          16,
          17,
          18,
          19,
          20,
          21,
          22,
          23,
          24,
          28
         ],
         "y": [
          1,
          1.129032258064516,
          1.129032258064516,
          1.4193548387096775,
          1.2580645161290323,
          1.6129032258064515,
          1.5483870967741935,
          1.096774193548387,
          1.6451612903225805,
          1.6451612903225805,
          2,
          1.7419354838709677,
          1.3548387096774195,
          1.8064516129032258,
          1.7096774193548387,
          1.7741935483870968,
          1.8064516129032258,
          1.2903225806451613,
          1.4516129032258065,
          1.3870967741935485,
          1.4193548387096775,
          1.3225806451612903,
          1.096774193548387,
          1.129032258064516,
          1,
          1.064516129032258,
          1.032258064516129,
          1.032258064516129
         ]
        },
        {
         "line": {
          "color": "white"
         },
         "mode": "lines",
         "showlegend": false,
         "type": "scatter",
         "x": [
          -20,
          40
         ],
         "y": [
          2,
          2
         ]
        },
        {
         "fill": "tonexty",
         "name": "1970",
         "type": "scatter",
         "x": [
          -1,
          0,
          1,
          2,
          3,
          4,
          5,
          6,
          7,
          8,
          9,
          10,
          11,
          12,
          13,
          14,
          15,
          16,
          17,
          18,
          19,
          20,
          21,
          22,
          23,
          24,
          26
         ],
         "y": [
          2,
          2.096774193548387,
          2.096774193548387,
          2.3225806451612905,
          2.4193548387096775,
          2.6451612903225805,
          2.096774193548387,
          2.4516129032258065,
          2.935483870967742,
          2.967741935483871,
          3,
          2.3225806451612905,
          2.870967741935484,
          2.6451612903225805,
          2.5806451612903225,
          2.6774193548387095,
          2.064516129032258,
          2.5806451612903225,
          2.6451612903225805,
          2.6129032258064515,
          2.2903225806451615,
          2.258064516129032,
          2.129032258064516,
          2.161290322580645,
          2,
          2.032258064516129,
          2
         ]
        },
        {
         "line": {
          "color": "white"
         },
         "mode": "lines",
         "showlegend": false,
         "type": "scatter",
         "x": [
          -20,
          40
         ],
         "y": [
          3,
          3
         ]
        },
        {
         "fill": "tonexty",
         "name": "1980",
         "type": "scatter",
         "x": [
          -4,
          -3,
          -2,
          -1,
          0,
          1,
          2,
          3,
          4,
          5,
          6,
          7,
          8,
          9,
          10,
          11,
          12,
          13,
          14,
          15,
          16,
          17,
          18,
          19,
          20,
          21,
          22
         ],
         "y": [
          3.0294117647058822,
          3.0294117647058822,
          3,
          3.0588235294117645,
          3,
          3.0294117647058822,
          3.264705882352941,
          3.2058823529411766,
          3.5588235294117645,
          3,
          3.411764705882353,
          3.6764705882352944,
          3.6764705882352944,
          3.3529411764705883,
          3.588235294117647,
          3.911764705882353,
          3.7058823529411766,
          3.5294117647058822,
          4,
          3.088235294117647,
          3.764705882352941,
          3.6470588235294117,
          3.3823529411764706,
          3.1470588235294117,
          3.0588235294117645,
          3.0588235294117645,
          3
         ]
        },
        {
         "line": {
          "color": "white"
         },
         "mode": "lines",
         "showlegend": false,
         "type": "scatter",
         "x": [
          -20,
          40
         ],
         "y": [
          4,
          4
         ]
        },
        {
         "fill": "tonexty",
         "name": "1990",
         "type": "scatter",
         "x": [
          -9,
          -6,
          -5,
          -4,
          -3,
          -2,
          -1,
          0,
          1,
          2,
          3,
          4,
          5,
          6,
          7,
          8,
          9,
          10,
          11,
          12,
          13,
          14,
          15,
          16,
          17,
          18,
          19,
          20,
          21,
          22,
          23,
          24,
          25,
          26,
          27
         ],
         "y": [
          4.057142857142857,
          4.0285714285714285,
          4,
          4,
          4.057142857142857,
          4.0285714285714285,
          4.0285714285714285,
          4.0285714285714285,
          4.057142857142857,
          4.2,
          4.171428571428572,
          4.428571428571429,
          4.085714285714285,
          4.628571428571428,
          4.6,
          4.457142857142857,
          4.714285714285714,
          4.685714285714286,
          5,
          4.628571428571428,
          4.257142857142857,
          4.485714285714286,
          4.057142857142857,
          4.4,
          4.6571428571428575,
          4.6571428571428575,
          4.257142857142857,
          4.285714285714286,
          4.171428571428572,
          4.085714285714285,
          4.085714285714285,
          4.142857142857143,
          4,
          4,
          4
         ]
        },
        {
         "line": {
          "color": "white"
         },
         "mode": "lines",
         "showlegend": false,
         "type": "scatter",
         "x": [
          -20,
          40
         ],
         "y": [
          5,
          5
         ]
        },
        {
         "fill": "tonexty",
         "name": "2000",
         "type": "scatter",
         "x": [
          0,
          1,
          2,
          3,
          4,
          5,
          6,
          7,
          8,
          9,
          10,
          11,
          12,
          13,
          14,
          15,
          16,
          17,
          18,
          19,
          20,
          21,
          22,
          23,
          24
         ],
         "y": [
          5.041666666666667,
          5.083333333333333,
          5.375,
          5.5,
          6,
          5.083333333333333,
          5.791666666666667,
          5.791666666666667,
          5.458333333333333,
          5.541666666666667,
          5.583333333333333,
          5.458333333333333,
          5.541666666666667,
          5.458333333333333,
          5.791666666666667,
          5.166666666666667,
          5.666666666666667,
          5.708333333333333,
          5.416666666666667,
          5.25,
          5.375,
          5.083333333333333,
          5,
          5.041666666666667,
          5
         ]
        },
        {
         "line": {
          "color": "white"
         },
         "mode": "lines",
         "showlegend": false,
         "type": "scatter",
         "x": [
          -20,
          40
         ],
         "y": [
          6,
          6
         ]
        },
        {
         "fill": "tonexty",
         "name": "2010",
         "type": "scatter",
         "x": [
          -6,
          -3,
          -2,
          -1,
          1,
          2,
          3,
          4,
          5,
          6,
          7,
          8,
          9,
          10,
          11,
          12,
          13,
          14,
          15,
          16,
          17,
          18,
          19,
          21,
          22,
          23,
          24,
          26,
          27
         ],
         "y": [
          6.0285714285714285,
          6,
          6,
          6,
          6.0285714285714285,
          6,
          6.085714285714285,
          6.142857142857143,
          6.057142857142857,
          6.6,
          7,
          6.714285714285714,
          6.942857142857143,
          6.628571428571428,
          6.857142857142857,
          6.571428571428571,
          6.571428571428571,
          6.6571428571428575,
          6.3428571428571425,
          6.771428571428571,
          6.771428571428571,
          6.285714285714286,
          6.2,
          6.114285714285714,
          6.085714285714285,
          6.057142857142857,
          6.0285714285714285,
          6.0285714285714285,
          6.0285714285714285
         ]
        }
       ],
       "layout": {
        "legend": {
         "title": {
          "text": "Year"
         }
        },
        "template": {
         "data": {
          "bar": [
           {
            "error_x": {
             "color": "#2a3f5f"
            },
            "error_y": {
             "color": "#2a3f5f"
            },
            "marker": {
             "line": {
              "color": "#E5ECF6",
              "width": 0.5
             }
            },
            "type": "bar"
           }
          ],
          "barpolar": [
           {
            "marker": {
             "line": {
              "color": "#E5ECF6",
              "width": 0.5
             }
            },
            "type": "barpolar"
           }
          ],
          "carpet": [
           {
            "aaxis": {
             "endlinecolor": "#2a3f5f",
             "gridcolor": "white",
             "linecolor": "white",
             "minorgridcolor": "white",
             "startlinecolor": "#2a3f5f"
            },
            "baxis": {
             "endlinecolor": "#2a3f5f",
             "gridcolor": "white",
             "linecolor": "white",
             "minorgridcolor": "white",
             "startlinecolor": "#2a3f5f"
            },
            "type": "carpet"
           }
          ],
          "choropleth": [
           {
            "colorbar": {
             "outlinewidth": 0,
             "ticks": ""
            },
            "type": "choropleth"
           }
          ],
          "contour": [
           {
            "colorbar": {
             "outlinewidth": 0,
             "ticks": ""
            },
            "colorscale": [
             [
              0,
              "#0d0887"
             ],
             [
              0.1111111111111111,
              "#46039f"
             ],
             [
              0.2222222222222222,
              "#7201a8"
             ],
             [
              0.3333333333333333,
              "#9c179e"
             ],
             [
              0.4444444444444444,
              "#bd3786"
             ],
             [
              0.5555555555555556,
              "#d8576b"
             ],
             [
              0.6666666666666666,
              "#ed7953"
             ],
             [
              0.7777777777777778,
              "#fb9f3a"
             ],
             [
              0.8888888888888888,
              "#fdca26"
             ],
             [
              1,
              "#f0f921"
             ]
            ],
            "type": "contour"
           }
          ],
          "contourcarpet": [
           {
            "colorbar": {
             "outlinewidth": 0,
             "ticks": ""
            },
            "type": "contourcarpet"
           }
          ],
          "heatmap": [
           {
            "colorbar": {
             "outlinewidth": 0,
             "ticks": ""
            },
            "colorscale": [
             [
              0,
              "#0d0887"
             ],
             [
              0.1111111111111111,
              "#46039f"
             ],
             [
              0.2222222222222222,
              "#7201a8"
             ],
             [
              0.3333333333333333,
              "#9c179e"
             ],
             [
              0.4444444444444444,
              "#bd3786"
             ],
             [
              0.5555555555555556,
              "#d8576b"
             ],
             [
              0.6666666666666666,
              "#ed7953"
             ],
             [
              0.7777777777777778,
              "#fb9f3a"
             ],
             [
              0.8888888888888888,
              "#fdca26"
             ],
             [
              1,
              "#f0f921"
             ]
            ],
            "type": "heatmap"
           }
          ],
          "heatmapgl": [
           {
            "colorbar": {
             "outlinewidth": 0,
             "ticks": ""
            },
            "colorscale": [
             [
              0,
              "#0d0887"
             ],
             [
              0.1111111111111111,
              "#46039f"
             ],
             [
              0.2222222222222222,
              "#7201a8"
             ],
             [
              0.3333333333333333,
              "#9c179e"
             ],
             [
              0.4444444444444444,
              "#bd3786"
             ],
             [
              0.5555555555555556,
              "#d8576b"
             ],
             [
              0.6666666666666666,
              "#ed7953"
             ],
             [
              0.7777777777777778,
              "#fb9f3a"
             ],
             [
              0.8888888888888888,
              "#fdca26"
             ],
             [
              1,
              "#f0f921"
             ]
            ],
            "type": "heatmapgl"
           }
          ],
          "histogram": [
           {
            "marker": {
             "colorbar": {
              "outlinewidth": 0,
              "ticks": ""
             }
            },
            "type": "histogram"
           }
          ],
          "histogram2d": [
           {
            "colorbar": {
             "outlinewidth": 0,
             "ticks": ""
            },
            "colorscale": [
             [
              0,
              "#0d0887"
             ],
             [
              0.1111111111111111,
              "#46039f"
             ],
             [
              0.2222222222222222,
              "#7201a8"
             ],
             [
              0.3333333333333333,
              "#9c179e"
             ],
             [
              0.4444444444444444,
              "#bd3786"
             ],
             [
              0.5555555555555556,
              "#d8576b"
             ],
             [
              0.6666666666666666,
              "#ed7953"
             ],
             [
              0.7777777777777778,
              "#fb9f3a"
             ],
             [
              0.8888888888888888,
              "#fdca26"
             ],
             [
              1,
              "#f0f921"
             ]
            ],
            "type": "histogram2d"
           }
          ],
          "histogram2dcontour": [
           {
            "colorbar": {
             "outlinewidth": 0,
             "ticks": ""
            },
            "colorscale": [
             [
              0,
              "#0d0887"
             ],
             [
              0.1111111111111111,
              "#46039f"
             ],
             [
              0.2222222222222222,
              "#7201a8"
             ],
             [
              0.3333333333333333,
              "#9c179e"
             ],
             [
              0.4444444444444444,
              "#bd3786"
             ],
             [
              0.5555555555555556,
              "#d8576b"
             ],
             [
              0.6666666666666666,
              "#ed7953"
             ],
             [
              0.7777777777777778,
              "#fb9f3a"
             ],
             [
              0.8888888888888888,
              "#fdca26"
             ],
             [
              1,
              "#f0f921"
             ]
            ],
            "type": "histogram2dcontour"
           }
          ],
          "mesh3d": [
           {
            "colorbar": {
             "outlinewidth": 0,
             "ticks": ""
            },
            "type": "mesh3d"
           }
          ],
          "parcoords": [
           {
            "line": {
             "colorbar": {
              "outlinewidth": 0,
              "ticks": ""
             }
            },
            "type": "parcoords"
           }
          ],
          "pie": [
           {
            "automargin": true,
            "type": "pie"
           }
          ],
          "scatter": [
           {
            "marker": {
             "colorbar": {
              "outlinewidth": 0,
              "ticks": ""
             }
            },
            "type": "scatter"
           }
          ],
          "scatter3d": [
           {
            "line": {
             "colorbar": {
              "outlinewidth": 0,
              "ticks": ""
             }
            },
            "marker": {
             "colorbar": {
              "outlinewidth": 0,
              "ticks": ""
             }
            },
            "type": "scatter3d"
           }
          ],
          "scattercarpet": [
           {
            "marker": {
             "colorbar": {
              "outlinewidth": 0,
              "ticks": ""
             }
            },
            "type": "scattercarpet"
           }
          ],
          "scattergeo": [
           {
            "marker": {
             "colorbar": {
              "outlinewidth": 0,
              "ticks": ""
             }
            },
            "type": "scattergeo"
           }
          ],
          "scattergl": [
           {
            "marker": {
             "colorbar": {
              "outlinewidth": 0,
              "ticks": ""
             }
            },
            "type": "scattergl"
           }
          ],
          "scattermapbox": [
           {
            "marker": {
             "colorbar": {
              "outlinewidth": 0,
              "ticks": ""
             }
            },
            "type": "scattermapbox"
           }
          ],
          "scatterpolar": [
           {
            "marker": {
             "colorbar": {
              "outlinewidth": 0,
              "ticks": ""
             }
            },
            "type": "scatterpolar"
           }
          ],
          "scatterpolargl": [
           {
            "marker": {
             "colorbar": {
              "outlinewidth": 0,
              "ticks": ""
             }
            },
            "type": "scatterpolargl"
           }
          ],
          "scatterternary": [
           {
            "marker": {
             "colorbar": {
              "outlinewidth": 0,
              "ticks": ""
             }
            },
            "type": "scatterternary"
           }
          ],
          "surface": [
           {
            "colorbar": {
             "outlinewidth": 0,
             "ticks": ""
            },
            "colorscale": [
             [
              0,
              "#0d0887"
             ],
             [
              0.1111111111111111,
              "#46039f"
             ],
             [
              0.2222222222222222,
              "#7201a8"
             ],
             [
              0.3333333333333333,
              "#9c179e"
             ],
             [
              0.4444444444444444,
              "#bd3786"
             ],
             [
              0.5555555555555556,
              "#d8576b"
             ],
             [
              0.6666666666666666,
              "#ed7953"
             ],
             [
              0.7777777777777778,
              "#fb9f3a"
             ],
             [
              0.8888888888888888,
              "#fdca26"
             ],
             [
              1,
              "#f0f921"
             ]
            ],
            "type": "surface"
           }
          ],
          "table": [
           {
            "cells": {
             "fill": {
              "color": "#EBF0F8"
             },
             "line": {
              "color": "white"
             }
            },
            "header": {
             "fill": {
              "color": "#C8D4E3"
             },
             "line": {
              "color": "white"
             }
            },
            "type": "table"
           }
          ]
         },
         "layout": {
          "annotationdefaults": {
           "arrowcolor": "#2a3f5f",
           "arrowhead": 0,
           "arrowwidth": 1
          },
          "coloraxis": {
           "colorbar": {
            "outlinewidth": 0,
            "ticks": ""
           }
          },
          "colorscale": {
           "diverging": [
            [
             0,
             "#8e0152"
            ],
            [
             0.1,
             "#c51b7d"
            ],
            [
             0.2,
             "#de77ae"
            ],
            [
             0.3,
             "#f1b6da"
            ],
            [
             0.4,
             "#fde0ef"
            ],
            [
             0.5,
             "#f7f7f7"
            ],
            [
             0.6,
             "#e6f5d0"
            ],
            [
             0.7,
             "#b8e186"
            ],
            [
             0.8,
             "#7fbc41"
            ],
            [
             0.9,
             "#4d9221"
            ],
            [
             1,
             "#276419"
            ]
           ],
           "sequential": [
            [
             0,
             "#0d0887"
            ],
            [
             0.1111111111111111,
             "#46039f"
            ],
            [
             0.2222222222222222,
             "#7201a8"
            ],
            [
             0.3333333333333333,
             "#9c179e"
            ],
            [
             0.4444444444444444,
             "#bd3786"
            ],
            [
             0.5555555555555556,
             "#d8576b"
            ],
            [
             0.6666666666666666,
             "#ed7953"
            ],
            [
             0.7777777777777778,
             "#fb9f3a"
            ],
            [
             0.8888888888888888,
             "#fdca26"
            ],
            [
             1,
             "#f0f921"
            ]
           ],
           "sequentialminus": [
            [
             0,
             "#0d0887"
            ],
            [
             0.1111111111111111,
             "#46039f"
            ],
            [
             0.2222222222222222,
             "#7201a8"
            ],
            [
             0.3333333333333333,
             "#9c179e"
            ],
            [
             0.4444444444444444,
             "#bd3786"
            ],
            [
             0.5555555555555556,
             "#d8576b"
            ],
            [
             0.6666666666666666,
             "#ed7953"
            ],
            [
             0.7777777777777778,
             "#fb9f3a"
            ],
            [
             0.8888888888888888,
             "#fdca26"
            ],
            [
             1,
             "#f0f921"
            ]
           ]
          },
          "colorway": [
           "#636efa",
           "#EF553B",
           "#00cc96",
           "#ab63fa",
           "#FFA15A",
           "#19d3f3",
           "#FF6692",
           "#B6E880",
           "#FF97FF",
           "#FECB52"
          ],
          "font": {
           "color": "#2a3f5f"
          },
          "geo": {
           "bgcolor": "white",
           "lakecolor": "white",
           "landcolor": "#E5ECF6",
           "showlakes": true,
           "showland": true,
           "subunitcolor": "white"
          },
          "hoverlabel": {
           "align": "left"
          },
          "hovermode": "closest",
          "mapbox": {
           "style": "light"
          },
          "paper_bgcolor": "white",
          "plot_bgcolor": "#E5ECF6",
          "polar": {
           "angularaxis": {
            "gridcolor": "white",
            "linecolor": "white",
            "ticks": ""
           },
           "bgcolor": "#E5ECF6",
           "radialaxis": {
            "gridcolor": "white",
            "linecolor": "white",
            "ticks": ""
           }
          },
          "scene": {
           "xaxis": {
            "backgroundcolor": "#E5ECF6",
            "gridcolor": "white",
            "gridwidth": 2,
            "linecolor": "white",
            "showbackground": true,
            "ticks": "",
            "zerolinecolor": "white"
           },
           "yaxis": {
            "backgroundcolor": "#E5ECF6",
            "gridcolor": "white",
            "gridwidth": 2,
            "linecolor": "white",
            "showbackground": true,
            "ticks": "",
            "zerolinecolor": "white"
           },
           "zaxis": {
            "backgroundcolor": "#E5ECF6",
            "gridcolor": "white",
            "gridwidth": 2,
            "linecolor": "white",
            "showbackground": true,
            "ticks": "",
            "zerolinecolor": "white"
           }
          },
          "shapedefaults": {
           "line": {
            "color": "#2a3f5f"
           }
          },
          "ternary": {
           "aaxis": {
            "gridcolor": "white",
            "linecolor": "white",
            "ticks": ""
           },
           "baxis": {
            "gridcolor": "white",
            "linecolor": "white",
            "ticks": ""
           },
           "bgcolor": "#E5ECF6",
           "caxis": {
            "gridcolor": "white",
            "linecolor": "white",
            "ticks": ""
           }
          },
          "title": {
           "x": 0.05
          },
          "xaxis": {
           "automargin": true,
           "gridcolor": "white",
           "linecolor": "white",
           "ticks": "",
           "title": {
            "standoff": 15
           },
           "zerolinecolor": "white",
           "zerolinewidth": 2
          },
          "yaxis": {
           "automargin": true,
           "gridcolor": "white",
           "linecolor": "white",
           "ticks": "",
           "title": {
            "standoff": 15
           },
           "zerolinecolor": "white",
           "zerolinewidth": 2
          }
         }
        },
        "title": {
         "text": "Average temperature from 1950 until 2010 in Seattle"
        },
        "xaxis": {
         "title": {
          "text": "Temperature in degree Celsius"
         }
        },
        "yaxis": {
         "showticklabels": false
        }
       }
      }
     },
     "metadata": {}
    }
   ],
   "source": [
    "# the idea behind this ridgeline plot with Plotly is to add traces manually, each trace corresponding to a particular year's temperature distribution\n",
    "# thus, we are to store each year's data (temperatures and their respective count) in seperate arrays or pd.series that we store in a dictionnary to retrieve them easily\n",
    "array_dict = {} # instantiating an empty dictionnary\n",
    "for year in year_list:\n",
    "    array_dict[f'x_{year}'] = temp[temp['year']==year]['Mean_TemperatureC'] # storing the temperature data for each year\n",
    "    array_dict[f'y_{year}'] = temp[temp['year']==year]['count'] # storing the temperature count for each year\n",
    "    array_dict[f'y_{year}'] = (array_dict[f'y_{year}'] - array_dict[f'y_{year}'].min()) \\\n",
    "                                / (array_dict[f'y_{year}'].max() - array_dict[f'y_{year}'].min()) # we normalize the array (min max normalization)\n",
    "\n",
    "# once all of this is done, we can create a plotly.graph_objects.Figure and add traces with fig.add_trace() method\n",
    "# since we have stored the temperatures and their respective count for each year, we can plot scatterplots (go.Scatter)\n",
    "# we thus iterate over year_list and create a 'blank line' that is placed at y = index, then the corresponding temperature count line\n",
    "fig = go.Figure()\n",
    "for index, year in enumerate(year_list):\n",
    "    fig.add_trace(go.Scatter(x=[-20, 40], y=np.full(2, index), mode='lines', line_color='white', showlegend=False)) # thanks to showlegend being set to False, we do not see this trace name in the legend\n",
    "    fig.add_trace(go.Scatter(x=array_dict[f'x_{year}'], y=array_dict[f'y_{year}'] + index, fill='tonexty', name=f'{year}'))\n",
    "\n",
    "# here you can modify the figure and the legend titles\n",
    "fig.update_layout(\n",
    "                title='Average temperature from 1950 until 2010 in Seattle',\n",
    "                legend_title_text='Year',\n",
    "                xaxis=dict(title='Temperature in degree Celsius'),\n",
    "                yaxis=dict(showticklabels=False) # that way you hide the y axis ticks labels\n",
    "                )\n",
    "\n",
    "fig.show()"
   ]
  }
 ]
}