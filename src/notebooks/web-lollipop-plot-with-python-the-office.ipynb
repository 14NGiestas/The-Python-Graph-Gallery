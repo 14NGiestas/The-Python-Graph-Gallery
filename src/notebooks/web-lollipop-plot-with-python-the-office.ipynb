{
 "cells": [
  {
   "cell_type": "markdown",
   "metadata": {},
   "source": [
    "# The Office Ratings"
   ]
  },
  {
   "cell_type": "markdown",
   "metadata": {},
   "source": [
    "## About"
   ]
  },
  {
   "cell_type": "markdown",
   "metadata": {},
   "source": [
    "This page showcases the work of [Cedric Sherer](https://www.cedricscherer.com), built for the [TidyTuesday](https://github.com/rfordatascience/tidytuesday) initiative. You can find the original code on his github repository [here](https://github.com/z3tt/TidyTuesday/blob/master/R/2021_22_MarioKart.Rmd). Thanks to him for accepting sharinig his work here! 🙏🙏"
   ]
  },
  {
   "cell_type": "markdown",
   "metadata": {},
   "source": [
    "## Load libraries"
   ]
  },
  {
   "cell_type": "code",
   "execution_count": 2,
   "metadata": {},
   "outputs": [],
   "source": [
    "import numpy as np\n",
    "import pandas as pd\n",
    "import matplotlib.colors as mc\n",
    "import matplotlib.pyplot as plt\n",
    "\n",
    "from matplotlib.cm import ScalarMappable\n",
    "from matplotlib.lines import Line2D\n",
    "from mpl_toolkits.axes_grid1.inset_locator import inset_axes\n",
    "from palettable import cartocolors"
   ]
  },
  {
   "cell_type": "code",
   "execution_count": null,
   "metadata": {},
   "outputs": [],
   "source": [
    "\n"
   ]
  },
  {
   "cell_type": "code",
   "execution_count": 19,
   "metadata": {},
   "outputs": [],
   "source": [
    "df_office = pd.read_csv('https://raw.githubusercontent.com/rfordatascience/tidytuesday/master/data/2020/2020-03-17/office_ratings.csv')"
   ]
  },
  {
   "cell_type": "code",
   "execution_count": 20,
   "metadata": {},
   "outputs": [
    {
     "data": {
      "text/html": [
       "<div>\n",
       "<style scoped>\n",
       "    .dataframe tbody tr th:only-of-type {\n",
       "        vertical-align: middle;\n",
       "    }\n",
       "\n",
       "    .dataframe tbody tr th {\n",
       "        vertical-align: top;\n",
       "    }\n",
       "\n",
       "    .dataframe thead th {\n",
       "        text-align: right;\n",
       "    }\n",
       "</style>\n",
       "<table border=\"1\" class=\"dataframe\">\n",
       "  <thead>\n",
       "    <tr style=\"text-align: right;\">\n",
       "      <th></th>\n",
       "      <th>season</th>\n",
       "      <th>episode</th>\n",
       "      <th>title</th>\n",
       "      <th>imdb_rating</th>\n",
       "      <th>total_votes</th>\n",
       "      <th>air_date</th>\n",
       "    </tr>\n",
       "  </thead>\n",
       "  <tbody>\n",
       "    <tr>\n",
       "      <th>0</th>\n",
       "      <td>1</td>\n",
       "      <td>1</td>\n",
       "      <td>Pilot</td>\n",
       "      <td>7.6</td>\n",
       "      <td>3706</td>\n",
       "      <td>2005-03-24</td>\n",
       "    </tr>\n",
       "    <tr>\n",
       "      <th>1</th>\n",
       "      <td>1</td>\n",
       "      <td>2</td>\n",
       "      <td>Diversity Day</td>\n",
       "      <td>8.3</td>\n",
       "      <td>3566</td>\n",
       "      <td>2005-03-29</td>\n",
       "    </tr>\n",
       "    <tr>\n",
       "      <th>2</th>\n",
       "      <td>1</td>\n",
       "      <td>3</td>\n",
       "      <td>Health Care</td>\n",
       "      <td>7.9</td>\n",
       "      <td>2983</td>\n",
       "      <td>2005-04-05</td>\n",
       "    </tr>\n",
       "    <tr>\n",
       "      <th>3</th>\n",
       "      <td>1</td>\n",
       "      <td>4</td>\n",
       "      <td>The Alliance</td>\n",
       "      <td>8.1</td>\n",
       "      <td>2886</td>\n",
       "      <td>2005-04-12</td>\n",
       "    </tr>\n",
       "    <tr>\n",
       "      <th>4</th>\n",
       "      <td>1</td>\n",
       "      <td>5</td>\n",
       "      <td>Basketball</td>\n",
       "      <td>8.4</td>\n",
       "      <td>3179</td>\n",
       "      <td>2005-04-19</td>\n",
       "    </tr>\n",
       "  </tbody>\n",
       "</table>\n",
       "</div>"
      ],
      "text/plain": [
       "   season  episode          title  imdb_rating  total_votes    air_date\n",
       "0       1        1          Pilot          7.6         3706  2005-03-24\n",
       "1       1        2  Diversity Day          8.3         3566  2005-03-29\n",
       "2       1        3    Health Care          7.9         2983  2005-04-05\n",
       "3       1        4   The Alliance          8.1         2886  2005-04-12\n",
       "4       1        5     Basketball          8.4         3179  2005-04-19"
      ]
     },
     "execution_count": 20,
     "metadata": {},
     "output_type": "execute_result"
    }
   ],
   "source": [
    "df_office.head()"
   ]
  },
  {
   "cell_type": "code",
   "execution_count": 28,
   "metadata": {},
   "outputs": [
    {
     "data": {
      "text/html": [
       "<div>\n",
       "<style scoped>\n",
       "    .dataframe tbody tr th:only-of-type {\n",
       "        vertical-align: middle;\n",
       "    }\n",
       "\n",
       "    .dataframe tbody tr th {\n",
       "        vertical-align: top;\n",
       "    }\n",
       "\n",
       "    .dataframe thead th {\n",
       "        text-align: right;\n",
       "    }\n",
       "</style>\n",
       "<table border=\"1\" class=\"dataframe\">\n",
       "  <thead>\n",
       "    <tr style=\"text-align: right;\">\n",
       "      <th></th>\n",
       "      <th>season</th>\n",
       "      <th>episode</th>\n",
       "      <th>title</th>\n",
       "      <th>imdb_rating</th>\n",
       "      <th>total_votes</th>\n",
       "      <th>air_date</th>\n",
       "      <th>episode_id</th>\n",
       "      <th>episode_mod</th>\n",
       "      <th>avg</th>\n",
       "      <th>mid</th>\n",
       "    </tr>\n",
       "  </thead>\n",
       "  <tbody>\n",
       "    <tr>\n",
       "      <th>0</th>\n",
       "      <td>1</td>\n",
       "      <td>1</td>\n",
       "      <td>Pilot</td>\n",
       "      <td>7.6</td>\n",
       "      <td>3706</td>\n",
       "      <td>2005-03-24</td>\n",
       "      <td>1</td>\n",
       "      <td>10</td>\n",
       "      <td>8.016667</td>\n",
       "      <td>12.5</td>\n",
       "    </tr>\n",
       "    <tr>\n",
       "      <th>1</th>\n",
       "      <td>1</td>\n",
       "      <td>2</td>\n",
       "      <td>Diversity Day</td>\n",
       "      <td>8.3</td>\n",
       "      <td>3566</td>\n",
       "      <td>2005-03-29</td>\n",
       "      <td>2</td>\n",
       "      <td>11</td>\n",
       "      <td>8.016667</td>\n",
       "      <td>12.5</td>\n",
       "    </tr>\n",
       "    <tr>\n",
       "      <th>2</th>\n",
       "      <td>1</td>\n",
       "      <td>3</td>\n",
       "      <td>Health Care</td>\n",
       "      <td>7.9</td>\n",
       "      <td>2983</td>\n",
       "      <td>2005-04-05</td>\n",
       "      <td>3</td>\n",
       "      <td>12</td>\n",
       "      <td>8.016667</td>\n",
       "      <td>12.5</td>\n",
       "    </tr>\n",
       "    <tr>\n",
       "      <th>3</th>\n",
       "      <td>1</td>\n",
       "      <td>4</td>\n",
       "      <td>The Alliance</td>\n",
       "      <td>8.1</td>\n",
       "      <td>2886</td>\n",
       "      <td>2005-04-12</td>\n",
       "      <td>4</td>\n",
       "      <td>13</td>\n",
       "      <td>8.016667</td>\n",
       "      <td>12.5</td>\n",
       "    </tr>\n",
       "    <tr>\n",
       "      <th>4</th>\n",
       "      <td>1</td>\n",
       "      <td>5</td>\n",
       "      <td>Basketball</td>\n",
       "      <td>8.4</td>\n",
       "      <td>3179</td>\n",
       "      <td>2005-04-19</td>\n",
       "      <td>5</td>\n",
       "      <td>14</td>\n",
       "      <td>8.016667</td>\n",
       "      <td>12.5</td>\n",
       "    </tr>\n",
       "  </tbody>\n",
       "</table>\n",
       "</div>"
      ],
      "text/plain": [
       "   season  episode          title  imdb_rating  total_votes    air_date  \\\n",
       "0       1        1          Pilot          7.6         3706  2005-03-24   \n",
       "1       1        2  Diversity Day          8.3         3566  2005-03-29   \n",
       "2       1        3    Health Care          7.9         2983  2005-04-05   \n",
       "3       1        4   The Alliance          8.1         2886  2005-04-12   \n",
       "4       1        5     Basketball          8.4         3179  2005-04-19   \n",
       "\n",
       "   episode_id  episode_mod       avg   mid  \n",
       "0           1           10  8.016667  12.5  \n",
       "1           2           11  8.016667  12.5  \n",
       "2           3           12  8.016667  12.5  \n",
       "3           4           13  8.016667  12.5  \n",
       "4           5           14  8.016667  12.5  "
      ]
     },
     "execution_count": 28,
     "metadata": {},
     "output_type": "execute_result"
    }
   ],
   "source": [
    "df_office_avg = df_office.sort_values([\"season\", \"episode\"])\n",
    "df_office_avg[\"episode_id\"] = np.arange(len(df_office_avg)) + 1\n",
    "df_office_avg[\"episode_mod\"] =  df_office_avg[\"episode_id\"] + (9 * df_office_avg[\"season\"])\n",
    "df_office_avg = df_office_avg.assign(\n",
    "    avg = df_office_avg.groupby(\"season\")[\"imdb_rating\"].transform(\"mean\"),\n",
    "    mid = df_office_avg.groupby(\"season\")[\"episode_mod\"].transform(\"mean\")\n",
    ")\n",
    "\n",
    "df_office_avg.head()"
   ]
  },
  {
   "cell_type": "code",
   "execution_count": 66,
   "metadata": {},
   "outputs": [],
   "source": [
    "df_lines = df_office_avg.groupby(\"season\").agg(\n",
    "    start_x = (\"episode_mod\", min),\n",
    "    end_x = (\"episode_mod\", max),\n",
    "    y = (\"avg\", np.unique) # all values are the same, it would be the same to use min, max, or whatever\n",
    ").reset_index()\n",
    "\n",
    "df_lines[\"start_x\"] -= 5\n",
    "df_lines[\"end_x\"] += 5\n",
    "\n",
    "df_lines = pd.melt(\n",
    "    df_lines, \n",
    "    id_vars=[\"season\", \"y\"], \n",
    "    value_vars=[\"start_x\", \"end_x\"], \n",
    "    var_name=\"type\", \n",
    "    value_name=\"x\"\n",
    ")\n",
    "df_lines[\"x_group\"] = np.where(df_lines[\"type\"] == \"start_x\", df_lines[\"x\"] + 0.1, df_lines[\"x\"] - 0.1)\n",
    "df_lines[\"x_group\"] = np.where(\n",
    "    (df_lines[\"type\"] == \"start_x\").values & (df_lines[\"x\"] == np.min(df_lines[\"x\"])).values, \n",
    "    df_lines[\"x_group\"] - 0.1, \n",
    "    df_lines[\"x_group\"]\n",
    ")\n",
    "df_lines[\"x_group\"] = np.where(\n",
    "    (df_lines[\"type\"] == \"end_x\").values & (df_lines[\"x\"] == np.max(df_lines[\"x\"])).values, \n",
    "    df_lines[\"x_group\"] + 0.1, \n",
    "    df_lines[\"x_group\"]\n",
    ")\n",
    "df_lines = df_lines.sort_values([\"season\", \"x_group\"])\n",
    "#df_lines"
   ]
  },
  {
   "cell_type": "code",
   "execution_count": 103,
   "metadata": {},
   "outputs": [],
   "source": [
    "GREY82 = \"#d1d1d1\"\n",
    "GREY40 = \"#666666\""
   ]
  },
  {
   "cell_type": "code",
   "execution_count": null,
   "metadata": {},
   "outputs": [],
   "source": [
    "cmap = mpl.cm.viridis\n",
    "bounds = [-1, 2, 5, 7, 12, 15]\n",
    "norm = mpl.colors.BoundaryNorm(bounds, cmap.N, extend='both')"
   ]
  },
  {
   "cell_type": "code",
   "execution_count": 99,
   "metadata": {},
   "outputs": [],
   "source": [
    "COLORS = [\"#486090\", \"#D7BFA6\", \"#6078A8\", \"#9CCCCC\", \"#7890A8\",\"#C7B0C1\", \"#B5C9C9\", \"#90A8C0\", \"#A8A890\"]\n",
    "colormap = mc.LinearSegmentedColormap.from_list(\"blue\", COLORS)\n",
    "normalize = mc.Normalize(vmin=1, vmax=9)"
   ]
  },
  {
   "cell_type": "code",
   "execution_count": 116,
   "metadata": {},
   "outputs": [
    {
     "data": {
      "text/plain": [
       "array([[0.28235294, 0.37647059, 0.56470588, 1.        ],\n",
       "       [0.28235294, 0.37647059, 0.56470588, 1.        ],\n",
       "       [0.84130719, 0.74792772, 0.65101115, 1.        ],\n",
       "       [0.84130719, 0.74792772, 0.65101115, 1.        ],\n",
       "       [0.37831603, 0.47317186, 0.6599308 , 1.        ],\n",
       "       [0.37831603, 0.47317186, 0.6599308 , 1.        ],\n",
       "       [0.61010381, 0.79723183, 0.7983391 , 1.        ],\n",
       "       [0.61010381, 0.79723183, 0.7983391 , 1.        ],\n",
       "       [0.4754479 , 0.56667436, 0.6603614 , 1.        ],\n",
       "       [0.4754479 , 0.56667436, 0.6603614 , 1.        ],\n",
       "       [0.77900807, 0.69211842, 0.75747789, 1.        ],\n",
       "       [0.77900807, 0.69211842, 0.75747789, 1.        ],\n",
       "       [0.70638985, 0.78519031, 0.78740484, 1.        ],\n",
       "       [0.70638985, 0.78519031, 0.78740484, 1.        ],\n",
       "       [0.5672895 , 0.65882353, 0.74777393, 1.        ],\n",
       "       [0.5672895 , 0.65882353, 0.74777393, 1.        ],\n",
       "       [0.65882353, 0.65882353, 0.56470588, 1.        ],\n",
       "       [0.65882353, 0.65882353, 0.56470588, 1.        ]])"
      ]
     },
     "execution_count": 116,
     "metadata": {},
     "output_type": "execute_result"
    }
   ],
   "source": [
    "colormap(normalize(df_lines[\"season\"]))"
   ]
  },
  {
   "cell_type": "code",
   "execution_count": 135,
   "metadata": {},
   "outputs": [
    {
     "data": {
      "image/png": "[encoded data removed]",
      "text/plain": [
       "<Figure size 1512x1008 with 1 Axes>"
      ]
     },
     "metadata": {
      "needs_background": "light"
     },
     "output_type": "display_data"
    }
   ],
   "source": [
    "fig, ax = plt.subplots(figsize = (21, 14))\n",
    "\n",
    "# First, horizontal lines that are used as scale reference\n",
    "for h in [7, 8, 9, 10]:\n",
    "    plt.axhline(h, color=GREY82, zorder=0)\n",
    "\n",
    "plt.vlines(\n",
    "    x=\"episode_mod\", \n",
    "    ymin=\"imdb_rating\", \n",
    "    ymax=\"avg\",\n",
    "    color=colormap(normalize(df_office_avg[\"season\"])),\n",
    "    data = df_office_avg\n",
    ")\n",
    "\n",
    "# Third is the format string, either empty or \"-\"\n",
    "plt.plot(\"x\", \"y\", \"-\", color=GREY40, data=df_lines)\n",
    "\n",
    "for season in df_lines[\"season\"].unique():\n",
    "    d = df_lines[df_lines[\"season\"] == season]\n",
    "    plt.plot(\"x_group\", \"y\", \"\", color=colormap(normalize(season)), lw=10, data=d)\n",
    "\n",
    "    \n",
    "plt.scatter(\n",
    "    \"episode_mod\", \n",
    "    \"imdb_rating\",\n",
    "    s = df_office_avg[\"total_votes\"]/20,\n",
    "    color=colormap(normalize(df_office_avg[\"season\"])), \n",
    "    data=df_office_avg\n",
    ");"
   ]
  },
  {
   "cell_type": "code",
   "execution_count": 5,
   "metadata": {},
   "outputs": [],
   "source": [
    "# import matplotlib.font_manager\n",
    "# matplotlib.font_manager.findSystemFonts(fontpaths=None, fontext='ttf')\n",
    "# matplotlib.font_manager.findfont(\"Roboto Mono\")"
   ]
  }
 ],
 "metadata": {
  "chartType": "lollipop",
  "description": "Streamcharts are a bit tricky to build with Python and Matplotlib. This blogpost will guide you through a complete example, starting with a stacked area chart and transforming it into a streamgraph thanks to data interpolation.",
  "family": "ranking",
  "kernelspec": {
   "display_name": "Python 3",
   "language": "python",
   "name": "python3"
  },
  "keywords": "python, chart, plot, seaborn, matplotlib, streamgraph",
  "language_info": {
   "codemirror_mode": {
    "name": "ipython",
    "version": 3
   },
   "file_extension": ".py",
   "mimetype": "text/x-python",
   "name": "python",
   "nbconvert_exporter": "python",
   "pygments_lexer": "ipython3",
   "version": "3.9.5"
  },
  "seoDescription": "This post explains how to build a stream graph with Matplotlib. Code snippets with explanations are provided.",
  "slug": "tototo",
  "title": "Streamgraph with Python and Matplotlib"
 },
 "nbformat": 4,
 "nbformat_minor": 4
}
