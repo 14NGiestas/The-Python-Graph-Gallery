{
 "cells": [
  {
   "source": [
    "## Plotting distributions on the same graph"
   ],
   "cell_type": "markdown",
   "metadata": {}
  },
  {
   "cell_type": "code",
   "execution_count": null,
   "metadata": {},
   "outputs": [],
   "source": [
    "# libraries & dataset\n",
    "import seaborn as sns\n",
    "import matplotlib.pyplot as plt\n",
    "# set a grey background (use sns.set_theme() if seaborn version 0.11.0 or above) \n",
    "sns.set(style=\"darkgrid\")\n",
    "df = sns.load_dataset(\"iris\")\n",
    "\n",
    "sns.histplot(data=df, x=\"sepal_length\", color=\"skyblue\", label=\"Sepal Length\", kde=True)\n",
    "sns.histplot(data=df, x=\"sepal_width\", color=\"red\", label=\"Sepal Width\", kde=True)\n",
    "\n",
    "plt.legend() \n",
    "plt.show()"
   ]
  },
  {
   "source": [
    "## Splitting the figure in as much axes as needed"
   ],
   "cell_type": "markdown",
   "metadata": {}
  },
  {
   "cell_type": "code",
   "execution_count": 1,
   "metadata": {},
   "outputs": [
    {
     "output_type": "error",
     "ename": "ModuleNotFoundError",
     "evalue": "No module named 'seaborn'",
     "traceback": [
      "\u001b[0;31m---------------------------------------------------------------------------\u001b[0m",
      "\u001b[0;31mModuleNotFoundError\u001b[0m                       Traceback (most recent call last)",
      "\u001b[0;32m<ipython-input-1-8879e1a943e8>\u001b[0m in \u001b[0;36m<module>\u001b[0;34m\u001b[0m\n\u001b[1;32m      1\u001b[0m \u001b[0;31m# libraries & dataset\u001b[0m\u001b[0;34m\u001b[0m\u001b[0;34m\u001b[0m\u001b[0;34m\u001b[0m\u001b[0m\n\u001b[0;32m----> 2\u001b[0;31m \u001b[0;32mimport\u001b[0m \u001b[0mseaborn\u001b[0m \u001b[0;32mas\u001b[0m \u001b[0msns\u001b[0m\u001b[0;34m\u001b[0m\u001b[0;34m\u001b[0m\u001b[0m\n\u001b[0m\u001b[1;32m      3\u001b[0m \u001b[0;32mimport\u001b[0m \u001b[0mmatplotlib\u001b[0m\u001b[0;34m.\u001b[0m\u001b[0mpyplot\u001b[0m \u001b[0;32mas\u001b[0m \u001b[0mplt\u001b[0m\u001b[0;34m\u001b[0m\u001b[0;34m\u001b[0m\u001b[0m\n\u001b[1;32m      4\u001b[0m \u001b[0;31m# set a grey background (use sns.set_theme() if seaborn version 0.11.0 or above)\u001b[0m\u001b[0;34m\u001b[0m\u001b[0;34m\u001b[0m\u001b[0;34m\u001b[0m\u001b[0m\n\u001b[1;32m      5\u001b[0m \u001b[0msns\u001b[0m\u001b[0;34m.\u001b[0m\u001b[0mset\u001b[0m\u001b[0;34m(\u001b[0m\u001b[0mstyle\u001b[0m\u001b[0;34m=\u001b[0m\u001b[0;34m\"darkgrid\"\u001b[0m\u001b[0;34m)\u001b[0m\u001b[0;34m\u001b[0m\u001b[0;34m\u001b[0m\u001b[0m\n",
      "\u001b[0;31mModuleNotFoundError\u001b[0m: No module named 'seaborn'"
     ]
    }
   ],
   "source": [
    "# libraries & dataset\n",
    "import seaborn as sns\n",
    "import matplotlib.pyplot as plt\n",
    "# set a grey background (use sns.set_theme() if seaborn version 0.11.0 or above) \n",
    "sns.set(style=\"darkgrid\")\n",
    "df = sns.load_dataset(\"iris\")\n",
    "\n",
    "fig, axs = plt.subplots(2, 2, figsize=(7, 7))\n",
    "\n",
    "sns.histplot(data=df, x=\"sepal_length\", kde=True, color=\"skyblue\", ax=axs[0, 0])\n",
    "sns.histplot(data=df, x=\"sepal_width\", kde=True, color=\"olive\", ax=axs[0, 1])\n",
    "sns.histplot(data=df, x=\"petal_length\", kde=True, color=\"gold\", ax=axs[1, 0])\n",
    "sns.histplot(data=df, x=\"petal_width\", kde=True, color=\"teal\", ax=axs[1, 1])\n",
    "\n",
    "plt.show()"
   ]
  }
 ],
 "metadata": {
  "title": "Histogram with several variables with Seaborn",
  "description": "If you have several numerical variables and want to visualize their distributions together, you have 2 options: plot them on the same axis or make use of matplotlib.Figure and matplotlib.Axes objects to customize your figure. The first option is nicer if you do not have too many variable, and if they do not overlap much.",
  "family": "distribution",
  "chartType": "histogram",
  "slug": "25-histogram-with-several-variables-seaborn",
  "keywords": "python, chart, plot, seaborn, matplotlib, histogram",
  "seoDescription": "How to plot histograms with multiple variables",
  "kernelspec": {
   "display_name": "Python 3",
   "language": "python",
   "name": "python3"
  },
  "language_info": {
   "codemirror_mode": {
    "name": "ipython",
    "version": 3
   },
   "file_extension": ".py",
   "mimetype": "text/x-python",
   "name": "python",
   "nbconvert_exporter": "python",
   "pygments_lexer": "ipython3",
   "version": "3.8.5-final"
  }
 },
 "nbformat": 4,
 "nbformat_minor": 4
}