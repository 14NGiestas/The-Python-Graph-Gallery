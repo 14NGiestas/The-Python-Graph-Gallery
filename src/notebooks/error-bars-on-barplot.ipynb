{
 "cells": [
  {
   "cell_type": "markdown",
   "metadata": {},
   "source": [
    "If you are using **aggregated values** in a barplot, **error bars** will give you a general idea of how precise a measurement is. This example shows how to add error bars into your chart.  \n",
    "\n",
    "By default, the `barplot()` function draws error bars in the plot with 95% confidence interval. You can remove error bars by passing `ci=None` argument. `ci` parameter controls the size of **confidence intervals** to draw around estimated values (Note that if you want to draw the standard deviation of the observations, you should pass `ci=\"sd\"`).  \n",
    "\n",
    "Additionally, you can change the **width of the caps** on error bars with the `capsize` parameter."
   ]
  },
  {
   "cell_type": "code",
   "execution_count": 10,
   "metadata": {},
   "outputs": [
    {
     "data": {
      "image/png": "[encoded data removed]",
      "text/plain": [
       "<Figure size 1008x576 with 1 Axes>"
      ]
     },
     "metadata": {
      "needs_background": "light"
     },
     "output_type": "display_data"
    }
   ],
   "source": [
    "# import libraries\n",
    "import seaborn as sns\n",
    "import numpy as np\n",
    "import matplotlib.pyplot as plt\n",
    "\n",
    "# load dataset\n",
    "tips = sns.load_dataset(\"tips\")\n",
    "\n",
    "# Set the figure size\n",
    "plt.figure(figsize=(14, 8))\n",
    "\n",
    "# plot a bar chart\n",
    "ax = sns.barplot(x=\"day\", y=\"total_bill\", data=tips, estimator=np.mean, ci=85, capsize=.2, color='lightblue')"
   ]
  }
 ],
 "metadata": {
  "chartType": "barplot",
  "description": " If you have aggregated values on your barplot (like the mean value of several data points), it may be better to add error bars. This post shows how to add <b>error bars</b> on a barplot using <a href='http://python-graph-gallery.com/seaborn/'>seaborn</a>.",
  "family": "ranking",
  "kernelspec": {
   "display_name": "Python 3",
   "language": "python",
   "name": "python3"
  },
  "keywords": "python, chart, plot, seaborn, matplotlib, barplot, error bar",
  "language_info": {
   "codemirror_mode": {
    "name": "ipython",
    "version": 3
   },
   "file_extension": ".py",
   "mimetype": "text/x-python",
   "name": "python",
   "nbconvert_exporter": "python",
   "pygments_lexer": "ipython3",
   "version": "3.7.3"
  },
  "seoDescription": "Plotting a basic barplot with error bars using seaborn",
  "slug": "error-bars-on-barplot",
  "title": "Barplot with Error Bars using Seaborn"
 },
 "nbformat": 4,
 "nbformat_minor": 4
}
