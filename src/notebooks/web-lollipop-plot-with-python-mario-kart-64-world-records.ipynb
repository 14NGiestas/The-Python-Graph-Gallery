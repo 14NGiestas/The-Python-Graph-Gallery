{
 "cells": [
  {
   "cell_type": "markdown",
   "metadata": {},
   "source": [
    "# Mario Kart 64 World Records"
   ]
  },
  {
   "cell_type": "markdown",
   "metadata": {},
   "source": [
    "## About\n",
    "\n",
    "This page showcases the work of [Cedric Sherer](https://www.cedricscherer.com), built for the [TidyTuesday](https://github.com/rfordatascience/tidytuesday) initiative. You can find the original code on his github repository [here](https://github.com/z3tt/TidyTuesday/blob/master/R/2021_22_MarioKart.Rmd). Thanks to him for accepting sharinig his work here! 🙏🙏"
   ]
  },
  {
   "cell_type": "markdown",
   "metadata": {},
   "source": [
    "## Load libraries"
   ]
  },
  {
   "cell_type": "code",
   "execution_count": 1,
   "metadata": {},
   "outputs": [],
   "source": [
    "import palettable\n",
    "\n",
    "import matplotlib.colors as mc\n",
    "import matplotlib.pyplot as plt\n",
    "import numpy as np\n",
    "import pandas as pd"
   ]
  },
  {
   "cell_type": "code",
   "execution_count": 2,
   "metadata": {},
   "outputs": [],
   "source": [
    "from matplotlib.cm import ScalarMappable\n",
    "from mpl_toolkits.axes_grid1.inset_locator import inset_axes"
   ]
  },
  {
   "cell_type": "markdown",
   "metadata": {},
   "source": [
    "## Load and prepare the dataset"
   ]
  },
  {
   "cell_type": "markdown",
   "metadata": {},
   "source": [
    "Here we read data from the original source bla bla... and explore the first lines."
   ]
  },
  {
   "cell_type": "code",
   "execution_count": 3,
   "metadata": {},
   "outputs": [
    {
     "data": {
      "text/html": [
       "<div>\n",
       "<style scoped>\n",
       "    .dataframe tbody tr th:only-of-type {\n",
       "        vertical-align: middle;\n",
       "    }\n",
       "\n",
       "    .dataframe tbody tr th {\n",
       "        vertical-align: top;\n",
       "    }\n",
       "\n",
       "    .dataframe thead th {\n",
       "        text-align: right;\n",
       "    }\n",
       "</style>\n",
       "<table border=\"1\" class=\"dataframe\">\n",
       "  <thead>\n",
       "    <tr style=\"text-align: right;\">\n",
       "      <th></th>\n",
       "      <th>track</th>\n",
       "      <th>type</th>\n",
       "      <th>shortcut</th>\n",
       "      <th>player</th>\n",
       "      <th>system_played</th>\n",
       "      <th>date</th>\n",
       "      <th>time_period</th>\n",
       "      <th>time</th>\n",
       "      <th>record_duration</th>\n",
       "    </tr>\n",
       "  </thead>\n",
       "  <tbody>\n",
       "    <tr>\n",
       "      <th>0</th>\n",
       "      <td>Luigi Raceway</td>\n",
       "      <td>Three Lap</td>\n",
       "      <td>No</td>\n",
       "      <td>Salam</td>\n",
       "      <td>NTSC</td>\n",
       "      <td>1997-02-15</td>\n",
       "      <td>2M 12.99S</td>\n",
       "      <td>132.99</td>\n",
       "      <td>1</td>\n",
       "    </tr>\n",
       "    <tr>\n",
       "      <th>1</th>\n",
       "      <td>Luigi Raceway</td>\n",
       "      <td>Three Lap</td>\n",
       "      <td>No</td>\n",
       "      <td>Booth</td>\n",
       "      <td>NTSC</td>\n",
       "      <td>1997-02-16</td>\n",
       "      <td>2M 9.99S</td>\n",
       "      <td>129.99</td>\n",
       "      <td>0</td>\n",
       "    </tr>\n",
       "    <tr>\n",
       "      <th>2</th>\n",
       "      <td>Luigi Raceway</td>\n",
       "      <td>Three Lap</td>\n",
       "      <td>No</td>\n",
       "      <td>Salam</td>\n",
       "      <td>NTSC</td>\n",
       "      <td>1997-02-16</td>\n",
       "      <td>2M 8.99S</td>\n",
       "      <td>128.99</td>\n",
       "      <td>12</td>\n",
       "    </tr>\n",
       "    <tr>\n",
       "      <th>3</th>\n",
       "      <td>Luigi Raceway</td>\n",
       "      <td>Three Lap</td>\n",
       "      <td>No</td>\n",
       "      <td>Salam</td>\n",
       "      <td>NTSC</td>\n",
       "      <td>1997-02-28</td>\n",
       "      <td>2M 6.99S</td>\n",
       "      <td>126.99</td>\n",
       "      <td>7</td>\n",
       "    </tr>\n",
       "    <tr>\n",
       "      <th>4</th>\n",
       "      <td>Luigi Raceway</td>\n",
       "      <td>Three Lap</td>\n",
       "      <td>No</td>\n",
       "      <td>Gregg G</td>\n",
       "      <td>NTSC</td>\n",
       "      <td>1997-03-07</td>\n",
       "      <td>2M 4.51S</td>\n",
       "      <td>124.51</td>\n",
       "      <td>54</td>\n",
       "    </tr>\n",
       "  </tbody>\n",
       "</table>\n",
       "</div>"
      ],
      "text/plain": [
       "           track       type shortcut   player system_played        date  \\\n",
       "0  Luigi Raceway  Three Lap       No    Salam          NTSC  1997-02-15   \n",
       "1  Luigi Raceway  Three Lap       No    Booth          NTSC  1997-02-16   \n",
       "2  Luigi Raceway  Three Lap       No    Salam          NTSC  1997-02-16   \n",
       "3  Luigi Raceway  Three Lap       No    Salam          NTSC  1997-02-28   \n",
       "4  Luigi Raceway  Three Lap       No  Gregg G          NTSC  1997-03-07   \n",
       "\n",
       "  time_period    time  record_duration  \n",
       "0   2M 12.99S  132.99                1  \n",
       "1    2M 9.99S  129.99                0  \n",
       "2    2M 8.99S  128.99               12  \n",
       "3    2M 6.99S  126.99                7  \n",
       "4    2M 4.51S  124.51               54  "
      ]
     },
     "execution_count": 3,
     "metadata": {},
     "output_type": "execute_result"
    }
   ],
   "source": [
    "df_records = pd.read_csv('https://raw.githubusercontent.com/rfordatascience/tidytuesday/master/data/2021/2021-05-25/records.csv')\n",
    "df_records.head()"
   ]
  },
  {
   "cell_type": "markdown",
   "metadata": {},
   "source": [
    "Today's visualization is based on records for complete races only. Our first step is to create a `pandas.DataFrame` called `df_rank` that keeps current world records for every track."
   ]
  },
  {
   "cell_type": "code",
   "execution_count": 4,
   "metadata": {},
   "outputs": [],
   "source": [
    "# Any preferred approach here?\n",
    "df_rank = df_records.query(\"type == 'Three Lap'\")\n",
    "df_rank = (\n",
    "    df_rank.loc[df_rank.groupby(\"track\")[\"time\"].idxmin()]\n",
    "     .sort_values(\"time\", ascending=False)\n",
    "     .assign(track = lambda df: pd.Categorical(df['track'], ordered=True, categories=df[\"track\"]))\n",
    ")"
   ]
  },
  {
   "cell_type": "code",
   "execution_count": 5,
   "metadata": {},
   "outputs": [],
   "source": [
    "# Keep records where type is Three Lap\n",
    "df_rank = df_records.query(\"type == 'Three Lap'\")\n",
    "\n",
    "# Keep records with the minimum time for each track\n",
    "df_rank = df_rank.loc[df_rank.groupby(\"track\")[\"time\"].idxmin()]\n",
    "\n",
    "# Sort by descending time\n",
    "df_rank = df_rank.sort_values(\"time\", ascending=False)\n",
    "\n",
    "# Make \"track\" ordered categorical with order given by descending times\n",
    "# This categorical type will be used to sort the tracks in the plot.\n",
    "df_rank[\"track\"] = pd.Categorical(df_rank[\"track\"], ordered=True,  categories=df_rank[\"track\"])"
   ]
  },
  {
   "cell_type": "markdown",
   "metadata": {},
   "source": [
    "Then we have `df_records_three` which holds all the records, no matter they were beaten or not. It is used to derive other data frames that used in our chart."
   ]
  },
  {
   "cell_type": "code",
   "execution_count": 6,
   "metadata": {},
   "outputs": [],
   "source": [
    "# We call '.reset_index()' to avoid SettingWithCopyWarning\n",
    "df_records_three = df_records.query(\"type == 'Three Lap'\").reset_index() \n",
    "df_records_three[\"year\"] = pd.DatetimeIndex(df_records_three[\"date\"]).year"
   ]
  },
  {
   "cell_type": "markdown",
   "metadata": {},
   "source": [
    "`df_connect` is the first data frame we derive. This one is used to add a dotted line that connects record times with and without shortcuts and will serve as a reference for their difference."
   ]
  },
  {
   "cell_type": "code",
   "execution_count": 7,
   "metadata": {},
   "outputs": [],
   "source": [
    "# First of all, for each track and shortcut, obtain the minimum and maximum\n",
    "# value of time. These represent the most recent and first records, respectively.\n",
    "df_connect = df_records_three.groupby([\"track\", \"shortcut\"]).agg(\n",
    "    no = (\"time\", min),\n",
    "    yes = (\"time\", max)\n",
    ").reset_index()\n",
    "\n",
    "# Next put it into long format.\n",
    "# Each row indicates the track, whether shortcuts were used, \n",
    "# if it's the current record, and the time achieved.\n",
    "df_connect = pd.melt(\n",
    "    df_connect,\n",
    "    id_vars=[\"track\", \"shortcut\"],\n",
    "    value_vars=[\"no\", \"yes\"],\n",
    "    var_name=\"record\",\n",
    "    value_name=\"time\"\n",
    ")\n",
    "\n",
    "# The dotted line goes from the first record without shortcut (the slowest)\n",
    "# to the most recent record with shortcut (the fastest)\n",
    "df_connect = df_connect.query(\n",
    "    \"(shortcut == 'No' and record == 'no') or (shortcut == 'Yes' and record == 'yes')\"\n",
    ")\n",
    "\n",
    "# Finally it is put in wide format, where there's only one row per track.\n",
    "df_connect = df_connect.pivot_table(index=\"track\", columns=\"record\", values=\"time\").reset_index()"
   ]
  },
  {
   "cell_type": "markdown",
   "metadata": {},
   "source": [
    "We also have `df_longdist` and `df_shortcut`. Note each data frame consists of five columns: `track`, `year`, `max`, `min`, and `diff`. `year` refers to the year where the current record was achieved, `max` is the completetion time for the first record and `min` is the time for the current record. `diff` is simply the difference between `max` and `min`, i.e. a measurement of how much the first record was improved. `df_shortcut` and `df_longdist` refer to records with and without shortcuts, respectively."
   ]
  },
  {
   "cell_type": "code",
   "execution_count": 8,
   "metadata": {},
   "outputs": [],
   "source": [
    "# Long dist refers to records without shortcut\n",
    "df_longdist = df_records_three.query(\"shortcut == 'No'\")\n",
    "\n",
    "# Only keep observations referring to either the first or the most recent record, \n",
    "# by track.\n",
    "grouped = df_longdist.groupby(\"track\")\n",
    "df_longdist = df_longdist.loc[pd.concat([grouped[\"time\"].idxmax(), grouped[\"time\"].idxmin()])]\n",
    "\n",
    "# Create a 'group' variable that indicates whether the record\n",
    "# refers to the first record, the one with maximum time,\n",
    "# or to the most recent record, the one with minimum time.\n",
    "df_longdist.loc[grouped[\"time\"].idxmax(), \"group\"] = \"max\"\n",
    "df_longdist.loc[grouped[\"time\"].idxmin(), \"group\"] = \"min\"\n",
    "\n",
    "# 'year' records the year of the most recent record\n",
    "df_longdist[\"year\"] = df_longdist.groupby(\"track\")['year'].transform(max)\n",
    "\n",
    "# Put the data in wide format, i.e., one observation per track.\n",
    "df_longdist = df_longdist.pivot_table(index=[\"track\", \"year\"], columns=\"group\", values=\"time\").reset_index()\n",
    "df_longdist[\"diff\"] = df_longdist[\"max\"] - df_longdist[\"min\"]"
   ]
  },
  {
   "cell_type": "code",
   "execution_count": 9,
   "metadata": {},
   "outputs": [],
   "source": [
    "# Same process than above, but using records where shortcut is \"Yes\"\n",
    "df_shortcut = df_records_three.query(\"shortcut == 'Yes'\")\n",
    "grouped = df_shortcut.groupby(\"track\")\n",
    "df_shortcut = df_shortcut.loc[pd.concat([grouped[\"time\"].idxmax(), grouped[\"time\"].idxmin()])]\n",
    "df_shortcut.loc[grouped[\"time\"].idxmax(), \"group\"] = \"max\"\n",
    "df_shortcut.loc[grouped[\"time\"].idxmin(), \"group\"] = \"min\"\n",
    "\n",
    "df_shortcut[\"year\"] = df_shortcut.groupby(\"track\")['year'].transform(max)\n",
    "df_shortcut = df_shortcut.pivot_table(index=[\"track\", \"year\"], columns=\"group\", values=\"time\").reset_index()\n",
    "df_shortcut[\"diff\"] = df_shortcut[\"max\"] - df_shortcut[\"min\"]"
   ]
  },
  {
   "cell_type": "markdown",
   "metadata": {},
   "source": [
    "All the datasets are sorted according to the order of `\"track\"` in `df_rank`. To do so, we first set the type of the `\"track\"` variable equal to the categorical type in `df_rank`, and then sort according to its levels."
   ]
  },
  {
   "cell_type": "code",
   "execution_count": 10,
   "metadata": {},
   "outputs": [],
   "source": [
    "tracks_sorted = df_rank[\"track\"].dtype.categories.tolist()"
   ]
  },
  {
   "cell_type": "code",
   "execution_count": 11,
   "metadata": {},
   "outputs": [],
   "source": [
    "# Sort df_connect\n",
    "df_connect[\"track\"] = df_connect[\"track\"].astype(\"category\")\n",
    "df_connect[\"track\"].cat.set_categories(tracks_sorted, inplace=True)\n",
    "df_connect = df_connect.sort_values(\"track\")\n",
    "\n",
    "# Sort df_longdist\n",
    "df_longdist[\"track\"] = df_longdist[\"track\"].astype(\"category\")\n",
    "df_longdist[\"track\"].cat.set_categories(tracks_sorted, inplace=True)\n",
    "df_longdist = df_longdist.sort_values(\"track\")\n",
    "\n",
    "# Sort df_shortcut\n",
    "df_shortcut[\"track\"] = df_shortcut[\"track\"].astype(\"category\")\n",
    "df_shortcut[\"track\"].cat.set_categories(tracks_sorted, inplace=True)\n",
    "df_shortcut = df_shortcut.sort_values(\"track\")"
   ]
  },
  {
   "cell_type": "markdown",
   "metadata": {},
   "source": [
    "This highly customized plot demands a lot of code. It is a good practice to define the colors at the very beginning so we can refer to them by name."
   ]
  },
  {
   "cell_type": "code",
   "execution_count": 12,
   "metadata": {},
   "outputs": [],
   "source": [
    "# Names for the grey colors are taken from R\n",
    "GREY94 = \"#f0f0f0\"\n",
    "GREY65 = \"#a6a6a6\"\n",
    "GREY50 = \"#7f7f7f\"\n",
    "GREY40 = \"#666666\"\n",
    "LIGHT_BLUE = \"#b4d1d2\"\n",
    "DARK_BLUE = \"#242c3c\"\n",
    "BLUE = \"#4a5a7b\"\n",
    "WHITE = \"#FFFCFC\" # technically not pure white"
   ]
  },
  {
   "cell_type": "markdown",
   "metadata": {},
   "source": [
    "Today we make use of the `palettable` library to make use of the `RedOr` palette, which is the one used in the original plot. We will also make use of the `matplotlib.colors.Normalize` class to normalize values into the (0, 1) interval before we pass it to our `colormap` function and `matplotlib.colors.LinearSegmentedColormap` to create a custom colormap for blue colors."
   ]
  },
  {
   "cell_type": "code",
   "execution_count": 13,
   "metadata": {},
   "outputs": [],
   "source": [
    "# 'colormap' is now a function\n",
    "colormap_orange = palettable.cartocolors.sequential.RedOr_5.mpl_colormap\n",
    "\n",
    "# And we also create a new colormap using \n",
    "colormap_blue = mc.LinearSegmentedColormap.from_list(\"blue\", [LIGHT_BLUE, DARK_BLUE], N=256)"
   ]
  },
  {
   "cell_type": "code",
   "execution_count": 14,
   "metadata": {},
   "outputs": [],
   "source": [
    "import matplotlib.patheffects as pe"
   ]
  },
  {
   "cell_type": "code",
   "execution_count": 15,
   "metadata": {},
   "outputs": [
    {
     "data": {
      "image/png": "[encoded data removed]",
      "text/plain": [
       "<Figure size 1512x1008 with 2 Axes>"
      ]
     },
     "metadata": {
      "needs_background": "light"
     },
     "output_type": "display_data"
    }
   ],
   "source": [
    "fig, ax = plt.subplots(figsize = (21, 14))\n",
    "\n",
    "# Add segments ---------------------------------------------------\n",
    "\n",
    "# Dotted line connection shortcut yes/no\n",
    "ax.hlines(y=\"track\", xmin=\"yes\", xmax=\"no\", color=\"#bfbfbf\", ls=\":\", data=df_connect)\n",
    "\n",
    "# Segment when shortcut==yes\n",
    "# First time we use the colormap and the normalization\n",
    "norm = mc.Normalize(vmin=0, vmax=250)\n",
    "color = colormap_orange(norm(df_shortcut[\"diff\"].values))\n",
    "ax.hlines(y=\"track\", xmin=\"min\", xmax=\"max\", color=color, lw=5, data=df_shortcut)\n",
    "\n",
    "# Segment when shortcut==no. Note we are overlapping lineranges\n",
    "# We use the same normalization scale.\n",
    "color = colormap_orange(norm(df_longdist[\"diff\"].values))\n",
    "ax.hlines(y=\"track\", xmin=\"min\", xmax=\"max\", color=color, lw=5, data=df_longdist)\n",
    "ax.hlines(y=\"track\", xmin=\"min\", xmax=\"max\", color=WHITE, lw=2.5, data=df_longdist)\n",
    "\n",
    "\n",
    "# Add dots -------------------------------------------------------\n",
    "## Dots when shortcut==yes – first record\n",
    "# zorder is added to ensure dots are on top\n",
    "ax.scatter(x=\"max\", y=\"track\", s=200, color=GREY65, edgecolors=GREY65, lw=2.5, zorder=2, data=df_shortcut)\n",
    "\n",
    "## Dots when shortcut==yes – latest record\n",
    "# This time we normalize using the range of years in the data, and use blue colormap\n",
    "norm = mc.Normalize(df_shortcut[\"year\"].min(), df_shortcut[\"year\"].max())\n",
    "color = colormap_blue(norm(df_shortcut[\"year\"].values))\n",
    "ax.scatter(x=\"min\", y=\"track\", s=200, color=color, edgecolors=color, lw=2.5, zorder=2, data=df_shortcut)\n",
    "\n",
    "## Dots shortcut==no – first record\n",
    "color = colormap_blue(norm(df_longdist[\"year\"].values))\n",
    "ax.scatter(x=\"min\", y=\"track\", s=160, color=WHITE, edgecolors=color, lw=2.5, zorder=2, data=df_longdist)\n",
    "\n",
    "## Dots shortcut==no – latest record\n",
    "ax.scatter(x=\"max\", y=\"track\", s=160, color=WHITE, edgecolors=GREY65, lw=2.5, zorder=2, data=df_longdist)\n",
    "\n",
    "\n",
    "\n",
    "## labels tracks\n",
    "# Annotations for tracks in df_shortcut\n",
    "for row in range(df_shortcut.shape[0]):\n",
    "     ax.text(\n",
    "        df_shortcut[\"min\"][row] - 7, \n",
    "        df_shortcut[\"track\"][row], \n",
    "        df_shortcut[\"track\"][row], \n",
    "        ha=\"right\", \n",
    "        va=\"center\",\n",
    "        size=18, \n",
    "        color=\"black\",\n",
    "        fontname=\"Atlantis\"\n",
    "    )\n",
    "\n",
    "# Annotations for df_longdist, not in df_shortcut\n",
    "for row in range(df_longdist.shape[0]):\n",
    "    if df_longdist[\"track\"][row] not in df_shortcut[\"track\"].values:\n",
    "        ax.text(\n",
    "            df_longdist[\"min\"][row] - 7, \n",
    "            df_longdist[\"track\"][row], \n",
    "            df_longdist[\"track\"][row], \n",
    "            ha=\"right\", \n",
    "            va=\"center\",\n",
    "            size=18,\n",
    "            color=\"black\",\n",
    "            fontname=\"Atlantis\",\n",
    "        )\n",
    "\n",
    "## labels dots shortcut yes\n",
    "df_shortcut_wario = df_shortcut.query(\"track == 'Wario Stadium'\")\n",
    "ax.text(\n",
    "    df_shortcut_wario[\"min\"], \n",
    "    df_shortcut_wario[\"track\"], \n",
    "    \"Most recent record\\nwith shortcuts\\n\", \n",
    "    color=BLUE,\n",
    "    ma=\"center\",\n",
    "    va=\"bottom\",\n",
    "    ha=\"center\",\n",
    "    size=12,\n",
    "    fontname=\"Overpass\"\n",
    ")\n",
    "ax.text(\n",
    "    df_shortcut_wario[\"max\"], \n",
    "    df_shortcut_wario[\"track\"], \n",
    "    \"First record\\nwith shortcuts\\n\", \n",
    "    color=GREY50,\n",
    "    ma=\"center\",\n",
    "    va=\"bottom\",\n",
    "    ha=\"center\",\n",
    "    size=12,\n",
    "    fontname=\"Overpass\"\n",
    ")\n",
    "\n",
    "## labels dots shortcut no\n",
    "df_longdist_wario = df_longdist.query(\"track == 'Wario Stadium'\")\n",
    "\n",
    "ax.text(\n",
    "    df_longdist_wario[\"min\"] - 15, \n",
    "    df_longdist_wario[\"track\"], \n",
    "    \"Most recent record\\nw/o shortcuts\\n\", \n",
    "    color=BLUE,\n",
    "    ma=\"center\",\n",
    "    va=\"bottom\",\n",
    "    ha=\"center\",\n",
    "    size=12,\n",
    "    fontname=\"Overpass\"\n",
    ")\n",
    "ax.text(\n",
    "    df_longdist_wario[\"max\"] + 15, \n",
    "    df_longdist_wario[\"track\"], \n",
    "    \"First record\\nw/o shortcuts\\n\", \n",
    "    color=GREY50,\n",
    "    ma=\"center\",\n",
    "    va=\"bottom\",\n",
    "    ha=\"center\",\n",
    "    size=12,\n",
    "    fontname=\"Overpass\"\n",
    ")\n",
    "\n",
    "\n",
    "# Hide spines\n",
    "ax.spines[\"left\"].set_visible(False)\n",
    "ax.spines[\"right\"].set_visible(False)\n",
    "ax.spines[\"top\"].set_visible(False)\n",
    "ax.spines[\"bottom\"].set_visible(False)\n",
    "\n",
    "# Hide y labels\n",
    "ax.yaxis.set_visible(False)\n",
    "\n",
    "# Remove x axis ticks and label both bottom and top\n",
    "ax.tick_params(axis=\"x\", bottom=True, top=True, labelbottom=True, labeltop=True, length=0)\n",
    "xticks = np.linspace(0, 400, num=9, dtype=int).tolist()\n",
    "ax.set_xlim(-60, 400)\n",
    "ax.set_xticks(xticks)\n",
    "ax.set_xticklabels([\"0 seconds\"] + xticks[1:], fontname=\"Hydrophilia Iced\", color=GREY40, size=12)\n",
    "\n",
    "# Set background color\n",
    "ax.set_facecolor(WHITE)\n",
    "\n",
    "# Vertical bars in the background\n",
    "# zorder=0 so it is behind the other elements in the plot.\n",
    "for xtick in xticks:\n",
    "    ax.axvline(xtick, color=GREY94, zorder=0)\n",
    "\n",
    "x0, x1, y0, y1 = plt.axis()\n",
    "plt.axis((x0, x1, y0, y1 + 0.5));\n",
    "\n",
    "\n",
    "norm = mc.Normalize(0, 250)\n",
    "colormap = colormap_orange\n",
    "\n",
    "cbaxes = inset_axes(ax, width=\"0.8%\", height=\"44%\", loc=3) \n",
    "\n",
    "cb = fig.colorbar(\n",
    "    ScalarMappable(norm=norm, cmap=colormap_orange), cax=cbaxes, \n",
    "    ticks=[0, 50, 100, 150, 200, 250]\n",
    ")\n",
    "\n",
    "cb.outline.set_visible(False)\n",
    "cb.set_label(\n",
    "    \"Time difference between first and most recent record\", \n",
    "    labelpad=-60,\n",
    "    color=GREY40, \n",
    "    size=14, \n",
    "    fontname=\"Overpass\"\n",
    ")\n",
    "\n",
    "cb.ax.yaxis.set_tick_params(\n",
    "    color=GREY40,\n",
    "    size=0\n",
    ")\n",
    "\n",
    "cb.ax.yaxis.set_ticklabels(\n",
    "    [0, 50, 100, 150, 200, 250], \n",
    "    fontname=\"Hydrophilia Iced\", \n",
    "    color=GREY40, \n",
    "    size=14\n",
    ")\n",
    "\n",
    "plt.savefig(\n",
    "    \"web-lollipop-plot-with-python-mario-kart-64-world-records.png\", \n",
    "    facecolor=WHITE, \n",
    "    dpi=300\n",
    ");"
   ]
  },
  {
   "cell_type": "code",
   "execution_count": 16,
   "metadata": {},
   "outputs": [],
   "source": [
    "# Add title\n",
    "#plt.suptitle(\n",
    "#    \"Let's-a-Go!  You  May  Still  Have  Chances  to  Grab  a  New  World  Record  for  Mario  Kart  64\",\n",
    "#    fontsize=28\n",
    "#)\n",
    "#ax.set_title(\n",
    "#    \"Most world records for Mario Kart 64 were achieved pretty recently (13 in 2020, 10 in 2021). On several tracks, the players considerably improved the time needed to complete three laps when they used shortcuts (*Choco Mountain*,\\n *D.K.'s Jungle Parkway*, *Frappe Snowland*, *Luigi Raceway*, *Rainbow Road*, *Royal Raceway*, *Toad's Turnpike*, *Wario Stadium*, and *Yoshi Valley*). Actually, for three out of these tracks the previous records were more than halved since 2020\\n (*Luigi Raceway*, *Rainbow Road*, and *Toad's Turnpike*). Four other tracks still have no records for races with shortcuts (*Moo Moo Farm*, *Koopa Troopa Beach*, *Banshee Boardwalk*, and *Bowser's Castle*). Are there none or did nobody find\\n them yet? Pretty unrealistic given the fact that since more than 24 years the game is played all around the world—but maybe you're able to find one and obtain a new world record?\",\n",
    "#    ha=\"center\",\n",
    "#    ma=\"left\",\n",
    "#    pad=30\n",
    "#);"
   ]
  },
  {
   "cell_type": "code",
   "execution_count": 17,
   "metadata": {},
   "outputs": [],
   "source": [
    "# https://github.com/matplotlib/matplotlib/issues/11836"
   ]
  }
 ],
 "metadata": {
  "kernelspec": {
   "display_name": "plots",
   "language": "python",
   "name": "plots"
  },
  "language_info": {
   "codemirror_mode": {
    "name": "ipython",
    "version": 3
   },
   "file_extension": ".py",
   "mimetype": "text/x-python",
   "name": "python",
   "nbconvert_exporter": "python",
   "pygments_lexer": "ipython3",
   "version": "3.9.5"
  }
 },
 "nbformat": 4,
 "nbformat_minor": 2
}
